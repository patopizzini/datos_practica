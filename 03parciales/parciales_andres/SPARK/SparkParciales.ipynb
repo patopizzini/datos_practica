{
 "cells": [
  {
   "cell_type": "code",
   "execution_count": 1,
   "metadata": {},
   "outputs": [],
   "source": [
    "import pyspark\n",
    "\n",
    "try: \n",
    "    type(sc)\n",
    "except NameError:\n",
    "    sc = pyspark.SparkContext('local[*]')"
   ]
  },
  {
   "cell_type": "markdown",
   "metadata": {},
   "source": [
    "## Primer Cuatrimestre de 2019. Examen parcial, primera oportunidad"
   ]
  },
  {
   "cell_type": "code",
   "execution_count": 2,
   "metadata": {},
   "outputs": [
    {
     "name": "stdout",
     "output_type": "stream",
     "text": [
      "[Row(_c0=u'1', _c1=u'NOMBRE_1', _c2=u'CABA', _c3=u'CABA', _c4=u'0,5', _c5=u'0,5'), Row(_c0=u'2', _c1=u'NOMBRE_2', _c2=u'CABA', _c3=u'CABA', _c4=u'0,5', _c5=u'0,5'), Row(_c0=u'3', _c1=u'NOMBRE_3', _c2=u'CABA', _c3=u'CABA', _c4=u'0,5', _c5=u'0,5'), Row(_c0=u'4', _c1=u'NOMBRE_4', _c2=u'BUENOSAIRES', _c3=u'LAPLATA', _c4=u'0,5', _c5=u'0,5'), Row(_c0=u'5', _c1=u'NOMBRE_5', _c2=u'SANTAFE', _c3=u'ROSARIO', _c4=u'0,5', _c5=u'0,5')]\n"
     ]
    }
   ],
   "source": [
    "df1 = spark.read.csv(\"bases.csv\",header=False,sep=\";\");\n",
    "print(df1.collect())"
   ]
  },
  {
   "cell_type": "code",
   "execution_count": 3,
   "metadata": {},
   "outputs": [
    {
     "name": "stdout",
     "output_type": "stream",
     "text": [
      "[Row(_c0=u'10/10/2019', _c1=u'1', _c2=u'25', _c3=u'30', _c4=u'35', _c5=u'35', _c6=u'35'), Row(_c0=u'11/10/2019', _c1=u'1', _c2=u'20', _c3=u'30', _c4=u'35', _c5=u'35', _c6=u'35'), Row(_c0=u'10/10/2019', _c1=u'1', _c2=u'25', _c3=u'30', _c4=u'35', _c5=u'35', _c6=u'35'), Row(_c0=u'10/10/2018', _c1=u'4', _c2=u'25', _c3=u'30', _c4=u'35', _c5=u'35', _c6=u'35'), Row(_c0=u'11/10/2018', _c1=u'4', _c2=u'20', _c3=u'30', _c4=u'35', _c5=u'35', _c6=u'35'), Row(_c0=u'12/10/2018', _c1=u'4', _c2=u'30', _c3=u'30', _c4=u'35', _c5=u'35', _c6=u'35'), Row(_c0=u'10/11/2018', _c1=u'4', _c2=u'25', _c3=u'30', _c4=u'35', _c5=u'35', _c6=u'35'), Row(_c0=u'11/11/2018', _c1=u'4', _c2=u'20', _c3=u'30', _c4=u'35', _c5=u'35', _c6=u'35'), Row(_c0=u'12/11/2018', _c1=u'4', _c2=u'15', _c3=u'30', _c4=u'35', _c5=u'35', _c6=u'35'), Row(_c0=u'10/12/2018', _c1=u'4', _c2=u'10', _c3=u'30', _c4=u'35', _c5=u'35', _c6=u'35'), Row(_c0=u'11/12/2018', _c1=u'4', _c2=u'10', _c3=u'30', _c4=u'35', _c5=u'35', _c6=u'35'), Row(_c0=u'12/12/2018', _c1=u'4', _c2=u'10', _c3=u'30', _c4=u'35', _c5=u'35', _c6=u'35'), Row(_c0=u'13/12/2018', _c1=u'4', _c2=u'10', _c3=u'30', _c4=u'35', _c5=u'35', _c6=u'35'), Row(_c0=u'10/10/2019', _c1=u'1', _c2=u'25', _c3=u'30', _c4=u'35', _c5=u'35', _c6=u'35'), Row(_c0=u'10/10/2019', _c1=u'1', _c2=u'25', _c3=u'30', _c4=u'35', _c5=u'35', _c6=u'35'), Row(_c0=u'10/10/2019', _c1=u'1', _c2=u'25', _c3=u'30', _c4=u'35', _c5=u'35', _c6=u'35')]\n"
     ]
    }
   ],
   "source": [
    "df2 = spark.read.csv(\"mediciones.csv\",header=False,sep=\";\");\n",
    "print(df2.collect())"
   ]
  },
  {
   "cell_type": "markdown",
   "metadata": {},
   "source": [
    "Posible solución.\n",
    "\n",
    "a. Map por ID_BASE en ambos RDD.\n",
    "\n",
    "b.Filter en RDD bases por PCIA = Buenos Aires.\n",
    "\n",
    "c.Filter en RDD mediciones por TIMESTAMP entre 01-12-2017 y 31-12-2018.\n",
    "\n",
    "d.Inner join entre ambos RDD.\n",
    "\n",
    "e.MAP por ID_BASE, YEAR(TIMESTAMP), MONTH(TIMESTAMP).\n",
    "\n",
    "f.ReduceByKey para calcular suma y contador.\n",
    "\n",
    "g.MAP para cambiar la clave a ID_BASE y aprovechar para hacer el calculo del promedio. En los values debe\n",
    "quedar el promedio, el nombre de la base y el mes/año.\n",
    "\n",
    "h.GroupByKey\n",
    "\n",
    "i.Filter para comparar que la tasa de un mes a otro haya variado en 50%.\n",
    "\n",
    "j.Map para quedarse con ID_BASE y nombre.\n",
    "\n",
    "Map innecesarios, descuento de 3 puntos. Filter tardíos"
   ]
  },
  {
   "cell_type": "code",
   "execution_count": 4,
   "metadata": {},
   "outputs": [],
   "source": [
    "bases = df1.rdd\n",
    "mediciones = df2.rdd"
   ]
  },
  {
   "cell_type": "code",
   "execution_count": 5,
   "metadata": {},
   "outputs": [
    {
     "data": {
      "text/plain": [
       "[Row(_c0=u'1', _c1=u'NOMBRE_1', _c2=u'CABA', _c3=u'CABA', _c4=u'0,5', _c5=u'0,5'),\n",
       " Row(_c0=u'2', _c1=u'NOMBRE_2', _c2=u'CABA', _c3=u'CABA', _c4=u'0,5', _c5=u'0,5'),\n",
       " Row(_c0=u'3', _c1=u'NOMBRE_3', _c2=u'CABA', _c3=u'CABA', _c4=u'0,5', _c5=u'0,5'),\n",
       " Row(_c0=u'4', _c1=u'NOMBRE_4', _c2=u'BUENOSAIRES', _c3=u'LAPLATA', _c4=u'0,5', _c5=u'0,5'),\n",
       " Row(_c0=u'5', _c1=u'NOMBRE_5', _c2=u'SANTAFE', _c3=u'ROSARIO', _c4=u'0,5', _c5=u'0,5')]"
      ]
     },
     "execution_count": 5,
     "metadata": {},
     "output_type": "execute_result"
    }
   ],
   "source": [
    "bases.collect()"
   ]
  },
  {
   "cell_type": "code",
   "execution_count": 6,
   "metadata": {},
   "outputs": [
    {
     "data": {
      "text/plain": [
       "[Row(_c0=u'10/10/2019', _c1=u'1', _c2=u'25', _c3=u'30', _c4=u'35', _c5=u'35', _c6=u'35'),\n",
       " Row(_c0=u'11/10/2019', _c1=u'1', _c2=u'20', _c3=u'30', _c4=u'35', _c5=u'35', _c6=u'35'),\n",
       " Row(_c0=u'10/10/2019', _c1=u'1', _c2=u'25', _c3=u'30', _c4=u'35', _c5=u'35', _c6=u'35'),\n",
       " Row(_c0=u'10/10/2018', _c1=u'4', _c2=u'25', _c3=u'30', _c4=u'35', _c5=u'35', _c6=u'35'),\n",
       " Row(_c0=u'11/10/2018', _c1=u'4', _c2=u'20', _c3=u'30', _c4=u'35', _c5=u'35', _c6=u'35'),\n",
       " Row(_c0=u'12/10/2018', _c1=u'4', _c2=u'30', _c3=u'30', _c4=u'35', _c5=u'35', _c6=u'35'),\n",
       " Row(_c0=u'10/11/2018', _c1=u'4', _c2=u'25', _c3=u'30', _c4=u'35', _c5=u'35', _c6=u'35'),\n",
       " Row(_c0=u'11/11/2018', _c1=u'4', _c2=u'20', _c3=u'30', _c4=u'35', _c5=u'35', _c6=u'35'),\n",
       " Row(_c0=u'12/11/2018', _c1=u'4', _c2=u'15', _c3=u'30', _c4=u'35', _c5=u'35', _c6=u'35'),\n",
       " Row(_c0=u'10/12/2018', _c1=u'4', _c2=u'10', _c3=u'30', _c4=u'35', _c5=u'35', _c6=u'35'),\n",
       " Row(_c0=u'11/12/2018', _c1=u'4', _c2=u'10', _c3=u'30', _c4=u'35', _c5=u'35', _c6=u'35'),\n",
       " Row(_c0=u'12/12/2018', _c1=u'4', _c2=u'10', _c3=u'30', _c4=u'35', _c5=u'35', _c6=u'35'),\n",
       " Row(_c0=u'13/12/2018', _c1=u'4', _c2=u'10', _c3=u'30', _c4=u'35', _c5=u'35', _c6=u'35'),\n",
       " Row(_c0=u'10/10/2019', _c1=u'1', _c2=u'25', _c3=u'30', _c4=u'35', _c5=u'35', _c6=u'35'),\n",
       " Row(_c0=u'10/10/2019', _c1=u'1', _c2=u'25', _c3=u'30', _c4=u'35', _c5=u'35', _c6=u'35'),\n",
       " Row(_c0=u'10/10/2019', _c1=u'1', _c2=u'25', _c3=u'30', _c4=u'35', _c5=u'35', _c6=u'35')]"
      ]
     },
     "execution_count": 6,
     "metadata": {},
     "output_type": "execute_result"
    }
   ],
   "source": [
    "mediciones.collect()"
   ]
  },
  {
   "cell_type": "code",
   "execution_count": 7,
   "metadata": {},
   "outputs": [],
   "source": [
    "bases = bases.filter(lambda x: x[2] == 'BUENOSAIRES')"
   ]
  },
  {
   "cell_type": "code",
   "execution_count": 8,
   "metadata": {},
   "outputs": [
    {
     "data": {
      "text/plain": [
       "[Row(_c0=u'4', _c1=u'NOMBRE_4', _c2=u'BUENOSAIRES', _c3=u'LAPLATA', _c4=u'0,5', _c5=u'0,5')]"
      ]
     },
     "execution_count": 8,
     "metadata": {},
     "output_type": "execute_result"
    }
   ],
   "source": [
    "bases.collect()"
   ]
  },
  {
   "cell_type": "code",
   "execution_count": 9,
   "metadata": {},
   "outputs": [],
   "source": [
    "mediciones = mediciones.filter(lambda x: x[0].endswith('2018'))"
   ]
  },
  {
   "cell_type": "code",
   "execution_count": 10,
   "metadata": {},
   "outputs": [
    {
     "data": {
      "text/plain": [
       "[Row(_c0=u'10/10/2018', _c1=u'4', _c2=u'25', _c3=u'30', _c4=u'35', _c5=u'35', _c6=u'35'),\n",
       " Row(_c0=u'11/10/2018', _c1=u'4', _c2=u'20', _c3=u'30', _c4=u'35', _c5=u'35', _c6=u'35'),\n",
       " Row(_c0=u'12/10/2018', _c1=u'4', _c2=u'30', _c3=u'30', _c4=u'35', _c5=u'35', _c6=u'35'),\n",
       " Row(_c0=u'10/11/2018', _c1=u'4', _c2=u'25', _c3=u'30', _c4=u'35', _c5=u'35', _c6=u'35'),\n",
       " Row(_c0=u'11/11/2018', _c1=u'4', _c2=u'20', _c3=u'30', _c4=u'35', _c5=u'35', _c6=u'35'),\n",
       " Row(_c0=u'12/11/2018', _c1=u'4', _c2=u'15', _c3=u'30', _c4=u'35', _c5=u'35', _c6=u'35'),\n",
       " Row(_c0=u'10/12/2018', _c1=u'4', _c2=u'10', _c3=u'30', _c4=u'35', _c5=u'35', _c6=u'35'),\n",
       " Row(_c0=u'11/12/2018', _c1=u'4', _c2=u'10', _c3=u'30', _c4=u'35', _c5=u'35', _c6=u'35'),\n",
       " Row(_c0=u'12/12/2018', _c1=u'4', _c2=u'10', _c3=u'30', _c4=u'35', _c5=u'35', _c6=u'35'),\n",
       " Row(_c0=u'13/12/2018', _c1=u'4', _c2=u'10', _c3=u'30', _c4=u'35', _c5=u'35', _c6=u'35')]"
      ]
     },
     "execution_count": 10,
     "metadata": {},
     "output_type": "execute_result"
    }
   ],
   "source": [
    "mediciones.collect()"
   ]
  },
  {
   "cell_type": "code",
   "execution_count": 11,
   "metadata": {},
   "outputs": [],
   "source": [
    "bases = bases.map(lambda x: (x[0],(x[1],x[3])))"
   ]
  },
  {
   "cell_type": "code",
   "execution_count": 12,
   "metadata": {},
   "outputs": [
    {
     "data": {
      "text/plain": [
       "[(u'4', (u'NOMBRE_4', u'LAPLATA'))]"
      ]
     },
     "execution_count": 12,
     "metadata": {},
     "output_type": "execute_result"
    }
   ],
   "source": [
    "bases.collect()"
   ]
  },
  {
   "cell_type": "code",
   "execution_count": 13,
   "metadata": {},
   "outputs": [],
   "source": [
    "mediciones = mediciones.map(lambda x: (x[1],(x[2],x[0][3:5],x[0][6:10])))"
   ]
  },
  {
   "cell_type": "code",
   "execution_count": 14,
   "metadata": {},
   "outputs": [
    {
     "data": {
      "text/plain": [
       "[(u'4', (u'25', u'10', u'2018')),\n",
       " (u'4', (u'20', u'10', u'2018')),\n",
       " (u'4', (u'30', u'10', u'2018')),\n",
       " (u'4', (u'25', u'11', u'2018')),\n",
       " (u'4', (u'20', u'11', u'2018')),\n",
       " (u'4', (u'15', u'11', u'2018')),\n",
       " (u'4', (u'10', u'12', u'2018')),\n",
       " (u'4', (u'10', u'12', u'2018')),\n",
       " (u'4', (u'10', u'12', u'2018')),\n",
       " (u'4', (u'10', u'12', u'2018'))]"
      ]
     },
     "execution_count": 14,
     "metadata": {},
     "output_type": "execute_result"
    }
   ],
   "source": [
    "mediciones.collect()"
   ]
  },
  {
   "cell_type": "code",
   "execution_count": 15,
   "metadata": {},
   "outputs": [],
   "source": [
    "joins = bases.leftOuterJoin(mediciones)"
   ]
  },
  {
   "cell_type": "code",
   "execution_count": 16,
   "metadata": {},
   "outputs": [
    {
     "data": {
      "text/plain": [
       "[(u'4', ((u'NOMBRE_4', u'LAPLATA'), (u'25', u'10', u'2018'))),\n",
       " (u'4', ((u'NOMBRE_4', u'LAPLATA'), (u'20', u'10', u'2018'))),\n",
       " (u'4', ((u'NOMBRE_4', u'LAPLATA'), (u'30', u'10', u'2018'))),\n",
       " (u'4', ((u'NOMBRE_4', u'LAPLATA'), (u'25', u'11', u'2018'))),\n",
       " (u'4', ((u'NOMBRE_4', u'LAPLATA'), (u'20', u'11', u'2018'))),\n",
       " (u'4', ((u'NOMBRE_4', u'LAPLATA'), (u'15', u'11', u'2018'))),\n",
       " (u'4', ((u'NOMBRE_4', u'LAPLATA'), (u'10', u'12', u'2018'))),\n",
       " (u'4', ((u'NOMBRE_4', u'LAPLATA'), (u'10', u'12', u'2018'))),\n",
       " (u'4', ((u'NOMBRE_4', u'LAPLATA'), (u'10', u'12', u'2018'))),\n",
       " (u'4', ((u'NOMBRE_4', u'LAPLATA'), (u'10', u'12', u'2018')))]"
      ]
     },
     "execution_count": 16,
     "metadata": {},
     "output_type": "execute_result"
    }
   ],
   "source": [
    "joins.collect()"
   ]
  },
  {
   "cell_type": "code",
   "execution_count": 17,
   "metadata": {},
   "outputs": [],
   "source": [
    "joins = joins.map(lambda x: ((x[0],x[1][1][1],x[1][1][2]),(x[1][1][0],1,x[1][0][0])))"
   ]
  },
  {
   "cell_type": "code",
   "execution_count": 18,
   "metadata": {},
   "outputs": [
    {
     "data": {
      "text/plain": [
       "[((u'4', u'10', u'2018'), (u'25', 1, u'NOMBRE_4')),\n",
       " ((u'4', u'10', u'2018'), (u'20', 1, u'NOMBRE_4')),\n",
       " ((u'4', u'10', u'2018'), (u'30', 1, u'NOMBRE_4')),\n",
       " ((u'4', u'11', u'2018'), (u'25', 1, u'NOMBRE_4')),\n",
       " ((u'4', u'11', u'2018'), (u'20', 1, u'NOMBRE_4')),\n",
       " ((u'4', u'11', u'2018'), (u'15', 1, u'NOMBRE_4')),\n",
       " ((u'4', u'12', u'2018'), (u'10', 1, u'NOMBRE_4')),\n",
       " ((u'4', u'12', u'2018'), (u'10', 1, u'NOMBRE_4')),\n",
       " ((u'4', u'12', u'2018'), (u'10', 1, u'NOMBRE_4')),\n",
       " ((u'4', u'12', u'2018'), (u'10', 1, u'NOMBRE_4'))]"
      ]
     },
     "execution_count": 18,
     "metadata": {},
     "output_type": "execute_result"
    }
   ],
   "source": [
    "joins.collect()"
   ]
  },
  {
   "cell_type": "code",
   "execution_count": 19,
   "metadata": {},
   "outputs": [],
   "source": [
    "joins = joins.reduceByKey(lambda x, y: (int(x[0])+int(y[0]),x[1]+y[1],x[2]))"
   ]
  },
  {
   "cell_type": "code",
   "execution_count": 20,
   "metadata": {},
   "outputs": [
    {
     "data": {
      "text/plain": [
       "[((u'4', u'10', u'2018'), (75, 3, u'NOMBRE_4')),\n",
       " ((u'4', u'12', u'2018'), (40, 4, u'NOMBRE_4')),\n",
       " ((u'4', u'11', u'2018'), (60, 3, u'NOMBRE_4'))]"
      ]
     },
     "execution_count": 20,
     "metadata": {},
     "output_type": "execute_result"
    }
   ],
   "source": [
    "joins.collect()"
   ]
  },
  {
   "cell_type": "code",
   "execution_count": 21,
   "metadata": {},
   "outputs": [],
   "source": [
    "joins = joins.map(lambda x: (x[0][0],(x[1][0]/x[1][1], x[1][2], x[0][1],x[0][2])))"
   ]
  },
  {
   "cell_type": "code",
   "execution_count": 22,
   "metadata": {},
   "outputs": [
    {
     "data": {
      "text/plain": [
       "[(u'4', (25, u'NOMBRE_4', u'10', u'2018')),\n",
       " (u'4', (10, u'NOMBRE_4', u'12', u'2018')),\n",
       " (u'4', (20, u'NOMBRE_4', u'11', u'2018'))]"
      ]
     },
     "execution_count": 22,
     "metadata": {},
     "output_type": "execute_result"
    }
   ],
   "source": [
    "joins.collect()"
   ]
  },
  {
   "cell_type": "code",
   "execution_count": 23,
   "metadata": {},
   "outputs": [],
   "source": [
    "group = joins.groupByKey()"
   ]
  },
  {
   "cell_type": "code",
   "execution_count": 24,
   "metadata": {},
   "outputs": [
    {
     "data": {
      "text/plain": [
       "[(u'4', <pyspark.resultiterable.ResultIterable at 0x7ff498935fd0>)]"
      ]
     },
     "execution_count": 24,
     "metadata": {},
     "output_type": "execute_result"
    }
   ],
   "source": [
    "group.collect()"
   ]
  },
  {
   "cell_type": "code",
   "execution_count": 25,
   "metadata": {},
   "outputs": [],
   "source": [
    "def filter_10p(x):\n",
    "    data = list(x[1])\n",
    "    print(data)\n",
    "    if int(data[1][2]) == 12:\n",
    "        return (abs(int(data[1][0]) - int(data[2][0])) >= 0.5*int(data[2][0]))\n",
    "    else: return False"
   ]
  },
  {
   "cell_type": "code",
   "execution_count": 26,
   "metadata": {},
   "outputs": [],
   "source": [
    "resultado = group.filter(filter_10p).map(lambda x: (x[0], list(x[1])[0][1]))"
   ]
  },
  {
   "cell_type": "code",
   "execution_count": 27,
   "metadata": {},
   "outputs": [
    {
     "data": {
      "text/plain": [
       "[(u'4', u'NOMBRE_4')]"
      ]
     },
     "execution_count": 27,
     "metadata": {},
     "output_type": "execute_result"
    }
   ],
   "source": [
    "resultado.collect()"
   ]
  },
  {
   "cell_type": "markdown",
   "metadata": {},
   "source": [
    "## Segundo Cuatrimestre de 2019. Examen parcial, primera oportunidad"
   ]
  },
  {
   "cell_type": "code",
   "execution_count": 117,
   "metadata": {},
   "outputs": [
    {
     "name": "stdout",
     "output_type": "stream",
     "text": [
      "[Row(_c0=u'1', _c1=u'nombre_1', _c2=u'10/10/1990', _c3=u'ARGENTINA'), Row(_c0=u'2', _c1=u'nombre_2', _c2=u'10/10/1990', _c3=u'ARGENTINA'), Row(_c0=u'3', _c1=u'nombre_3', _c2=u'10/10/1990', _c3=u'BOLIVIA'), Row(_c0=u'4', _c1=u'nombre_4', _c2=u'10/10/1990', _c3=u'BOLIVIA'), Row(_c0=u'5', _c1=u'nombre_5', _c2=u'10/10/1990', _c3=u'CHILE'), Row(_c0=u'6', _c1=u'nombre_6', _c2=u'10/10/1990', _c3=u'CHILE')]\n"
     ]
    }
   ],
   "source": [
    "df3 = spark.read.csv(\"jugadores.csv\",header=False,sep=\";\");\n",
    "print(df3.collect())"
   ]
  },
  {
   "cell_type": "code",
   "execution_count": 118,
   "metadata": {},
   "outputs": [
    {
     "name": "stdout",
     "output_type": "stream",
     "text": [
      "[Row(_c0=u'1', _c1=u'1', _c2=u'20', _c3=u'200', _c4=u'5'), Row(_c0=u'2', _c1=u'1', _c2=u'20', _c3=u'200', _c4=u'5'), Row(_c0=u'3', _c1=u'1', _c2=u'20', _c3=u'200', _c4=u'5'), Row(_c0=u'1', _c1=u'2', _c2=u'20', _c3=u'200', _c4=u'5'), Row(_c0=u'2', _c1=u'2', _c2=u'10', _c3=u'200', _c4=u'5'), Row(_c0=u'3', _c1=u'2', _c2=u'10', _c3=u'200', _c4=u'5')]\n"
     ]
    }
   ],
   "source": [
    "df4 = spark.read.csv(\"estadisticas.csv\",header=False,sep=\";\");\n",
    "print(df4.collect())"
   ]
  },
  {
   "cell_type": "code",
   "execution_count": 119,
   "metadata": {},
   "outputs": [
    {
     "name": "stdout",
     "output_type": "stream",
     "text": [
      "[Row(_c0=u'1', _c1=u'2018', _c2=u'1', _c3=u'5', _c4=u'lanus', _c5=u'banfield'), Row(_c0=u'2', _c1=u'2018', _c2=u'2', _c3=u'10', _c4=u'temperley', _c5=u'losandes'), Row(_c0=u'3', _c1=u'2018', _c2=u'2', _c3=u'15', _c4=u'quilmes', _c5=u'argentinos'), Row(_c0=u'4', _c1=u'2019', _c2=u'1', _c3=u'3', _c4=u'allboys', _c5=u'chicago')]\n"
     ]
    }
   ],
   "source": [
    "df5 = spark.read.csv(\"partidos.csv\",header=False,sep=\";\");\n",
    "print(df5.collect())"
   ]
  },
  {
   "cell_type": "code",
   "execution_count": 120,
   "metadata": {},
   "outputs": [],
   "source": [
    "jugadores = df3.rdd\n",
    "estadisticas = df4.rdd\n",
    "partidos = df5.rdd"
   ]
  },
  {
   "cell_type": "code",
   "execution_count": 121,
   "metadata": {},
   "outputs": [
    {
     "data": {
      "text/plain": [
       "[Row(_c0=u'1', _c1=u'nombre_1', _c2=u'10/10/1990', _c3=u'ARGENTINA'),\n",
       " Row(_c0=u'2', _c1=u'nombre_2', _c2=u'10/10/1990', _c3=u'ARGENTINA'),\n",
       " Row(_c0=u'3', _c1=u'nombre_3', _c2=u'10/10/1990', _c3=u'BOLIVIA'),\n",
       " Row(_c0=u'4', _c1=u'nombre_4', _c2=u'10/10/1990', _c3=u'BOLIVIA'),\n",
       " Row(_c0=u'5', _c1=u'nombre_5', _c2=u'10/10/1990', _c3=u'CHILE'),\n",
       " Row(_c0=u'6', _c1=u'nombre_6', _c2=u'10/10/1990', _c3=u'CHILE')]"
      ]
     },
     "execution_count": 121,
     "metadata": {},
     "output_type": "execute_result"
    }
   ],
   "source": [
    "jugadores.collect()"
   ]
  },
  {
   "cell_type": "code",
   "execution_count": 122,
   "metadata": {},
   "outputs": [],
   "source": [
    "jugadores = jugadores.filter(lambda x: x[3] == 'ARGENTINA')\n",
    "jugadores = jugadores.map(lambda x: (x[0],(x[1])))"
   ]
  },
  {
   "cell_type": "code",
   "execution_count": 123,
   "metadata": {},
   "outputs": [
    {
     "data": {
      "text/plain": [
       "[(u'1', u'nombre_1'), (u'2', u'nombre_2')]"
      ]
     },
     "execution_count": 123,
     "metadata": {},
     "output_type": "execute_result"
    }
   ],
   "source": [
    "jugadores.collect()"
   ]
  },
  {
   "cell_type": "code",
   "execution_count": 124,
   "metadata": {},
   "outputs": [
    {
     "data": {
      "text/plain": [
       "[Row(_c0=u'1', _c1=u'1', _c2=u'20', _c3=u'200', _c4=u'5'),\n",
       " Row(_c0=u'2', _c1=u'1', _c2=u'20', _c3=u'200', _c4=u'5'),\n",
       " Row(_c0=u'3', _c1=u'1', _c2=u'20', _c3=u'200', _c4=u'5'),\n",
       " Row(_c0=u'1', _c1=u'2', _c2=u'20', _c3=u'200', _c4=u'5'),\n",
       " Row(_c0=u'2', _c1=u'2', _c2=u'10', _c3=u'200', _c4=u'5'),\n",
       " Row(_c0=u'3', _c1=u'2', _c2=u'10', _c3=u'200', _c4=u'5')]"
      ]
     },
     "execution_count": 124,
     "metadata": {},
     "output_type": "execute_result"
    }
   ],
   "source": [
    "estadisticas.collect()"
   ]
  },
  {
   "cell_type": "code",
   "execution_count": 125,
   "metadata": {},
   "outputs": [],
   "source": [
    "estadisticas = estadisticas.map(lambda x: (x[1],(x[0],x[2])))"
   ]
  },
  {
   "cell_type": "code",
   "execution_count": 126,
   "metadata": {},
   "outputs": [
    {
     "data": {
      "text/plain": [
       "[(u'1', (u'1', u'20')),\n",
       " (u'1', (u'2', u'20')),\n",
       " (u'1', (u'3', u'20')),\n",
       " (u'2', (u'1', u'20')),\n",
       " (u'2', (u'2', u'10')),\n",
       " (u'2', (u'3', u'10'))]"
      ]
     },
     "execution_count": 126,
     "metadata": {},
     "output_type": "execute_result"
    }
   ],
   "source": [
    "estadisticas.collect()"
   ]
  },
  {
   "cell_type": "code",
   "execution_count": 127,
   "metadata": {},
   "outputs": [
    {
     "data": {
      "text/plain": [
       "[Row(_c0=u'1', _c1=u'2018', _c2=u'1', _c3=u'5', _c4=u'lanus', _c5=u'banfield'),\n",
       " Row(_c0=u'2', _c1=u'2018', _c2=u'2', _c3=u'10', _c4=u'temperley', _c5=u'losandes'),\n",
       " Row(_c0=u'3', _c1=u'2018', _c2=u'2', _c3=u'15', _c4=u'quilmes', _c5=u'argentinos'),\n",
       " Row(_c0=u'4', _c1=u'2019', _c2=u'1', _c3=u'3', _c4=u'allboys', _c5=u'chicago')]"
      ]
     },
     "execution_count": 127,
     "metadata": {},
     "output_type": "execute_result"
    }
   ],
   "source": [
    "partidos.collect()"
   ]
  },
  {
   "cell_type": "code",
   "execution_count": 128,
   "metadata": {},
   "outputs": [],
   "source": [
    "partidos = partidos.map(lambda x: (x[0],(x[2],x[1])))"
   ]
  },
  {
   "cell_type": "code",
   "execution_count": 129,
   "metadata": {},
   "outputs": [
    {
     "data": {
      "text/plain": [
       "[(u'1', (u'1', u'2018')),\n",
       " (u'2', (u'2', u'2018')),\n",
       " (u'3', (u'2', u'2018')),\n",
       " (u'4', (u'1', u'2019'))]"
      ]
     },
     "execution_count": 129,
     "metadata": {},
     "output_type": "execute_result"
    }
   ],
   "source": [
    "partidos.collect()"
   ]
  },
  {
   "cell_type": "code",
   "execution_count": 130,
   "metadata": {},
   "outputs": [],
   "source": [
    "arg = jugadores.leftOuterJoin(estadisticas)"
   ]
  },
  {
   "cell_type": "code",
   "execution_count": 131,
   "metadata": {},
   "outputs": [
    {
     "data": {
      "text/plain": [
       "[(u'1', (u'nombre_1', (u'1', u'20'))),\n",
       " (u'1', (u'nombre_1', (u'2', u'20'))),\n",
       " (u'1', (u'nombre_1', (u'3', u'20'))),\n",
       " (u'2', (u'nombre_2', (u'1', u'20'))),\n",
       " (u'2', (u'nombre_2', (u'2', u'10'))),\n",
       " (u'2', (u'nombre_2', (u'3', u'10')))]"
      ]
     },
     "execution_count": 131,
     "metadata": {},
     "output_type": "execute_result"
    }
   ],
   "source": [
    "arg.collect()"
   ]
  },
  {
   "cell_type": "code",
   "execution_count": 132,
   "metadata": {},
   "outputs": [],
   "source": [
    "arg = arg.map(lambda x: ((x[1][1][0]),(x[0],x[1][0],x[1][1][1])))"
   ]
  },
  {
   "cell_type": "code",
   "execution_count": 133,
   "metadata": {},
   "outputs": [
    {
     "data": {
      "text/plain": [
       "[(u'1', (u'1', u'nombre_1', u'20')),\n",
       " (u'2', (u'1', u'nombre_1', u'20')),\n",
       " (u'3', (u'1', u'nombre_1', u'20')),\n",
       " (u'1', (u'2', u'nombre_2', u'20')),\n",
       " (u'2', (u'2', u'nombre_2', u'10')),\n",
       " (u'3', (u'2', u'nombre_2', u'10'))]"
      ]
     },
     "execution_count": 133,
     "metadata": {},
     "output_type": "execute_result"
    }
   ],
   "source": [
    "arg.collect()"
   ]
  },
  {
   "cell_type": "code",
   "execution_count": 134,
   "metadata": {},
   "outputs": [],
   "source": [
    "full = arg.leftOuterJoin(partidos)"
   ]
  },
  {
   "cell_type": "code",
   "execution_count": 135,
   "metadata": {},
   "outputs": [
    {
     "data": {
      "text/plain": [
       "[(u'2', ((u'1', u'nombre_1', u'20'), (u'2', u'2018'))),\n",
       " (u'2', ((u'2', u'nombre_2', u'10'), (u'2', u'2018'))),\n",
       " (u'1', ((u'1', u'nombre_1', u'20'), (u'1', u'2018'))),\n",
       " (u'1', ((u'2', u'nombre_2', u'20'), (u'1', u'2018'))),\n",
       " (u'3', ((u'1', u'nombre_1', u'20'), (u'2', u'2018'))),\n",
       " (u'3', ((u'2', u'nombre_2', u'10'), (u'2', u'2018')))]"
      ]
     },
     "execution_count": 135,
     "metadata": {},
     "output_type": "execute_result"
    }
   ],
   "source": [
    "full.collect()"
   ]
  },
  {
   "cell_type": "code",
   "execution_count": 136,
   "metadata": {},
   "outputs": [],
   "source": [
    "full = full.map(lambda x: ((x[1][0][0],x[1][1][0],x[1][1][1]),(x[1][0][1],x[1][0][2])))"
   ]
  },
  {
   "cell_type": "code",
   "execution_count": 137,
   "metadata": {},
   "outputs": [
    {
     "data": {
      "text/plain": [
       "[((u'1', u'2', u'2018'), (u'nombre_1', u'20')),\n",
       " ((u'2', u'2', u'2018'), (u'nombre_2', u'10')),\n",
       " ((u'1', u'1', u'2018'), (u'nombre_1', u'20')),\n",
       " ((u'2', u'1', u'2018'), (u'nombre_2', u'20')),\n",
       " ((u'1', u'2', u'2018'), (u'nombre_1', u'20')),\n",
       " ((u'2', u'2', u'2018'), (u'nombre_2', u'10'))]"
      ]
     },
     "execution_count": 137,
     "metadata": {},
     "output_type": "execute_result"
    }
   ],
   "source": [
    "full.collect()"
   ]
  },
  {
   "cell_type": "code",
   "execution_count": 138,
   "metadata": {},
   "outputs": [],
   "source": [
    "full = full.reduceByKey(lambda x,y: ( x[0], int(x[1])+int(y[1]) ))"
   ]
  },
  {
   "cell_type": "code",
   "execution_count": 139,
   "metadata": {},
   "outputs": [
    {
     "data": {
      "text/plain": [
       "[((u'2', u'2', u'2018'), (u'nombre_2', 20)),\n",
       " ((u'1', u'1', u'2018'), (u'nombre_1', u'20')),\n",
       " ((u'1', u'2', u'2018'), (u'nombre_1', 40)),\n",
       " ((u'2', u'1', u'2018'), (u'nombre_2', u'20'))]"
      ]
     },
     "execution_count": 139,
     "metadata": {},
     "output_type": "execute_result"
    }
   ],
   "source": [
    "full.collect()"
   ]
  },
  {
   "cell_type": "code",
   "execution_count": 140,
   "metadata": {},
   "outputs": [],
   "source": [
    "full = full.map(lambda x: ( (x[0][0],x[1][0]),(x[0][1],x[0][2],int(x[1][1])) ))"
   ]
  },
  {
   "cell_type": "code",
   "execution_count": 141,
   "metadata": {},
   "outputs": [
    {
     "data": {
      "text/plain": [
       "[((u'2', u'nombre_2'), (u'2', u'2018', 20)),\n",
       " ((u'1', u'nombre_1'), (u'1', u'2018', 20)),\n",
       " ((u'1', u'nombre_1'), (u'2', u'2018', 40)),\n",
       " ((u'2', u'nombre_2'), (u'1', u'2018', 20))]"
      ]
     },
     "execution_count": 141,
     "metadata": {},
     "output_type": "execute_result"
    }
   ],
   "source": [
    "full.collect()"
   ]
  },
  {
   "cell_type": "code",
   "execution_count": 142,
   "metadata": {},
   "outputs": [],
   "source": [
    "full = full.groupByKey()"
   ]
  },
  {
   "cell_type": "code",
   "execution_count": 143,
   "metadata": {},
   "outputs": [
    {
     "data": {
      "text/plain": [
       "[((u'2', u'nombre_2'),\n",
       "  <pyspark.resultiterable.ResultIterable at 0x7ff49885b4d0>),\n",
       " ((u'1', u'nombre_1'),\n",
       "  <pyspark.resultiterable.ResultIterable at 0x7ff498bcb8d0>)]"
      ]
     },
     "execution_count": 143,
     "metadata": {},
     "output_type": "execute_result"
    }
   ],
   "source": [
    "full.collect()"
   ]
  },
  {
   "cell_type": "code",
   "execution_count": 144,
   "metadata": {},
   "outputs": [],
   "source": [
    "def filter_Futbol(x):\n",
    "    data = list(x[1])\n",
    "    if int(data[0][0]) == 2:\n",
    "        return (abs(int(data[0][2]) - int(data[1][2])) >= 0.5*int(data[1][2]))\n",
    "    else: \n",
    "        return (abs(int(data[1][2]) - int(data[0][2])) >= 0.5*int(data[0][2]))"
   ]
  },
  {
   "cell_type": "code",
   "execution_count": 145,
   "metadata": {},
   "outputs": [],
   "source": [
    "resultado = full.filter(filter_Futbol).map(lambda x:x[0])"
   ]
  },
  {
   "cell_type": "code",
   "execution_count": 146,
   "metadata": {},
   "outputs": [
    {
     "data": {
      "text/plain": [
       "[(u'1', u'nombre_1')]"
      ]
     },
     "execution_count": 146,
     "metadata": {},
     "output_type": "execute_result"
    }
   ],
   "source": [
    "resultado.collect()"
   ]
  }
 ],
 "metadata": {
  "kernelspec": {
   "display_name": "Python 2",
   "language": "python",
   "name": "python2"
  },
  "language_info": {
   "codemirror_mode": {
    "name": "ipython",
    "version": 2
   },
   "file_extension": ".py",
   "mimetype": "text/x-python",
   "name": "python",
   "nbconvert_exporter": "python",
   "pygments_lexer": "ipython2",
   "version": "2.7.14"
  }
 },
 "nbformat": 4,
 "nbformat_minor": 2
}
