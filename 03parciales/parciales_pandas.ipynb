{
 "cells": [
  {
   "cell_type": "code",
   "execution_count": 1,
   "metadata": {},
   "outputs": [],
   "source": [
    "## IMPORTACIÓN GENERAL DE LIBRERIAS Y VISUALIZACIÓN DE DATOS (matplotlib y seaborn)\n",
    "\n",
    "import pandas as pd\n",
    "import numpy as np\n",
    "import matplotlib.pyplot as plt\n",
    "import seaborn as sns\n",
    "import datetime as DT\n",
    "import warnings\n",
    "import sys\n",
    "\n",
    "%matplotlib inline\n",
    "warnings.filterwarnings('ignore')\n",
    "plt.style.use('default') \n",
    "sns.set(style=\"whitegrid\") \n",
    "plt.rcParams['figure.figsize'] = (18, 18)\n",
    "\n",
    "np.set_printoptions(threshold=sys.maxsize)"
   ]
  },
  {
   "cell_type": "markdown",
   "metadata": {},
   "source": [
    "# PARCIAL\n",
    "La Agencia Nacional de Estadísticas de Buenos Aires recolecta información de nacimientos cuando los padres registran a sus hijos en el registro civil a partir de una encuesta.\n",
    "\n",
    "Esa información se encuentra disponible para su análisis en un csv con el siguiente formato (dia_nacimiento, mes_nacimiento, anio_nacimiento, peso_al_nacer, longitud_al_nacer, id_hospital, tipo_parto), donde el tipo de parto 1 es natural y 2 es cesárea.\n",
    "\n",
    "Por otro lado la agencia cuenta con información histórica de los hospitales en otro csv con siguiente formato (id_hospital, dirección, promedio_nacimientos_mensual).\n",
    "\n",
    "Se pide usar Pandas para:\n",
    "\n",
    "Calcular la cantidad de nacimientos para cada uno de los hospitales para el mes de Octubre de 2017 e indicar aquellos hospitales que superan el promedio de nacimientos mensuales.\n",
    "\n",
    "Comparando el mes de Octubre de 2017 indicar programáticamente si se incremento el % de cesáreas con respecto a ese mes del año 2016.\n",
    "\n",
    "Resolucion: https://github.com/CrossNox/7506-OD2/blob/master/pandas/2017C2_2_nacimientos.ipynb"
   ]
  },
  {
   "cell_type": "code",
   "execution_count": 3,
   "metadata": {},
   "outputs": [],
   "source": [
    "#Leemos el CSV\n",
    "nacimientos = pd.read_csv('data/2017C2_2_nacimientos.csv')\n",
    "historico = pd.read_csv('data/2017C2_2_historico.csv')"
   ]
  },
  {
   "cell_type": "markdown",
   "metadata": {},
   "source": [
    "# -----------------------------------------"
   ]
  },
  {
   "cell_type": "markdown",
   "metadata": {},
   "source": [
    "# PARCIAL 2\n",
    "Tenemos un dataframe con la información de distintas playlists armadas por usuarios con el formato (playlist, song_id, description).\n",
    "\n",
    "A su vez, contamos con un dataframe de canciones que contiene (song_id, singer, year, lenght, genres). Se pide generar un programa en Pandas que indique para cada playlist cual es el cantante predominante (con mas canciones incluidas dentro de esa lista)\n",
    "\n",
    "Resolucion: https://github.com/CrossNox/7506-OD2/blob/master/pandas/2017C2_1_playlists.ipynb"
   ]
  },
  {
   "cell_type": "code",
   "execution_count": 32,
   "metadata": {},
   "outputs": [],
   "source": [
    "playlist = pd.read_csv('data/2017C2_1_playlists.csv')\n",
    "canciones = pd.read_csv('data/2017C2_1_canciones.csv')"
   ]
  },
  {
   "cell_type": "markdown",
   "metadata": {},
   "source": [
    "# ----------------------------------------------"
   ]
  },
  {
   "cell_type": "markdown",
   "metadata": {},
   "source": [
    "# PARCIAL 3\n",
    "Un sitio de E books tiene información sobre los reviews que los usuarios hacen de sus libros en un DataFrame con formato (user_id, book_id, rating, timestamp).\n",
    "\n",
    "Por otro lado tenemos información en otro DataFrame que bajamos de GoodReads: (book_id, book_name, avg_rating). Podemos suponer que los Ids de los libros son compatibles.\n",
    "\n",
    "Se pide usar Python Pandas para:\n",
    "\n",
    "Obtener un DataFrame que indique el TOP5 de Ebooks en el sitio de Ebooks. (Para este punto se puede ignorar el segundo DataFrame).\n",
    "\n",
    "Obtener un DataFrame que indique qué libros tienen una diferencia de rating promedio mayor al 20% entre el sitio de Ebooks y GoodReads.\n",
    "\n",
    "Resolucion: https://github.com/CrossNox/7506-OD2/blob/master/pandas/2017C1_1_ebooks.ipynb"
   ]
  },
  {
   "cell_type": "code",
   "execution_count": 38,
   "metadata": {},
   "outputs": [],
   "source": [
    "ebooks = pd.read_csv('data/2017C1_1_ebooks.csv')\n",
    "goodreads = pd.read_csv('data/2017C1_1_goodreads.csv')"
   ]
  },
  {
   "cell_type": "markdown",
   "metadata": {},
   "source": [
    "# PARCIAL 4\n",
    "El GCPD (Gotham City Police Dept) recolecta la información de casos policiales que acontecen en Ciudad Gótica. Esta información se encuentra guardada en un dataframe con el siguiente formato: (fecha, id_caso, descripcion, estado_caso, categoria, latitud, longitud).\n",
    "\n",
    "Los posibles estados que puede tener un caso son 1: caso abierto, 2: caso resuelto, 3: cerrado sin resolución.\n",
    "\n",
    "Las fechas se encuentran en el formato YYYY-MM-DD. Por otro lado el comisionado Gordon guarda un registro detallado sobre en cuáles casos fue activada la batiseñal para pedir ayuda del vigilante, Batman. Esta información se encuentra en un Dataframe con el siguiente formato (id_caso, respuesta), siendo campo respuesta si la señal tuvo una respu esta positiva (1) o negativa (0) de parte de él.\n",
    "\n",
    "El sector encargado de las estadísticas oficiales del GCPD quiere con esta información analizar las siguientes situaciones:\n",
    "\n",
    "a) Tasa de resolución de casos de la fuerza policial por categoría de caso (considerando aquellos casos en los que no participó Batman).\n",
    "\n",
    "b) Tasa de resolución de casos con la ayuda de Batman (considerando que aquellos casos en los que fue llamado con la batiseñal, participó en la resolución).\n",
    "\n",
    "c) Indicar el mes del año pasado en el que Batman tuvo mayor participación en la investigación de casos.\n",
    "\n",
    "Resolucion: https://github.com/juanlaura/Datos/blob/master/Pandas/Parcial_1C_2018/Parcial%202018%201C.ipynb"
   ]
  },
  {
   "cell_type": "code",
   "execution_count": 80,
   "metadata": {},
   "outputs": [],
   "source": [
    "gcpd = pd.read_csv('data/2018C1_GCPD.csv')\n",
    "gordon = pd.read_csv('data/2018C1_gordon.csv')"
   ]
  },
  {
   "cell_type": "markdown",
   "metadata": {},
   "source": [
    "# PARCIAL\n",
    "\n",
    "El GCPD recolecta la información de casos policiales que acontecen en Ciudad Gótica. Esta informacióñ se encuentra guarada en un archivo con el siguiente formato:\n",
    "\n",
    "(fecha, id_caso, descripción, estado_caso, categoria, latitud, longitud)\n",
    "\n",
    "Los posibels estados que puede tener un caso son 1: caso abierto, 2: caso resuelto, 3: cerrado sin resolucion.\n",
    "\n",
    "Las fechas se encuentran en el formato YYYY-MM-DD.\n",
    "\n",
    "Por otro lado el comisionado Gordon guarda un registro detallado sobre en cuales casos fue activada la batiseñal para pedir ayuda del vigilante, Batman. Esta información se encuentra en un archivo con el siguiente formato (id_caso, respeusta), siendo campo respuesta si la señal tuvo una respuesta positiva (1) o negativa (0) de parte de él.\n",
    "\n",
    "El sector encargado de las estadísticas oficiales del GCPD quiere analizar las siguientes situaciones:\n",
    "\n",
    "a) Las categorias que hayan incrementado su tasa de resolución al menos un 10% en el último trimestre, con respecto al trimestre anterior.\n",
    "\n",
    "b) Tasa de participación de Batman por categoria, para los delitos contra la propiedad (que enmarcan las categorías incendio intencional, robo, hurto y robo de vehiculos).\n",
    "\n",
    "Resolver ambas consultas utilizando Pandas.\n",
    "\n",
    "Resolucion: https://github.com/CrossNox/7506-OD2/blob/master/pandas/2018C1_2_GCPD.ipynb"
   ]
  },
  {
   "cell_type": "code",
   "execution_count": null,
   "metadata": {},
   "outputs": [],
   "source": [
    "gcpd = pd.read_csv('data/2018C1_GCPD.csv')\n",
    "gordon = pd.read_csv('data/2018C1_gordon.csv')"
   ]
  },
  {
   "cell_type": "markdown",
   "metadata": {},
   "source": [
    "# 2019 2C 1ra Oportunidad\n",
    "Tokyo Telemessage se encuentra analizando la posibilidad de dar finalmente de baja su servicio de pager que mantiene desde la década de 1980. Los pagers son un dispositivo de mensajería que realiza un ‘beep’ al recibir un mensaje de texto de un número limitado de caracteres. Para poder enviar un mensaje, uno debe llamar a un número telefónico que representa al pager dejando el mensaje a una operadora. Para el analisis se cuenta con dos csv’s: clientes.csv del siguiente formato (id_pager, numero_telefono, codigo_de_area, fecha_creacion_cuenta, nombre_cliente, region, categoria_cliente) y eventos.csv (año,mes,dia,hora,minutos,segundos, id_pager, mensaje, numero_origen).\n",
    "\n",
    "Como parte del análisis se desea responder: ¿Cuál es la región que aún tiene activos la mayor cantidad de pagers, entendiendo como activo aquellos que recibieron por lo menos un mensaje en el último mes? ¿Cuál es el porcentaje de pagers activos que solamente reciben mensajes únicamente de una persona (es decir, siempre desde el mismo número de origen)? Utilizar pandas para responder las anteriores preguntas."
   ]
  },
  {
   "cell_type": "code",
   "execution_count": null,
   "metadata": {},
   "outputs": [],
   "source": [
    "# armamos un data frame para usarlo como ejemplo de S&OP 500\n",
    "tt_clients_data = {\n",
    "        'id_pager': ['1','2','3','4','5'],\n",
    "        'numero_telefono': ['1','2','3','4','5'],\n",
    "        'codigo_de_area': ['11','11','11','22','22'],\n",
    "        'fecha_creacion_cuenta': ['1983-01-01','1984-01-01','1984-01-01','1985-01-01','1986-01-01'],\n",
    "        'nombre_cliente': ['Okabe', 'Kurisu', 'Mayuri','Suzuha', 'Daru'],\n",
    "        'region': ['Akihabara', 'Akihabara', 'Akihabara', 'Kyoto', 'Kyoto'],\n",
    "        'categoria_cliente': ['1','1','2','2','1']\n",
    "}\n",
    "\n",
    "tt_clients = pd.DataFrame(tt_clients_data, columns = tt_clients_data.keys())\n",
    "\n",
    "# armamos un data frame para usarlo como ejemplo de S&OP 500\n",
    "tt_msgs_data = {\n",
    "        'anio': ['2020','2020','2020','2020','2020','2020','2020','2020','2020','2020'],\n",
    "        'mes': ['3','3','3','3','4','4','4','4','4','4'],\n",
    "        'dia': ['1','2','3','11','12','13','11','22','23','22'],\n",
    "        'minutos': ['1','2','3','11','12','13','11','22','23','22'],\n",
    "        'segundos': ['1','2','3','11','12','13','11','22','23','22'],\n",
    "        'id_pager': ['2','1','2','1','5','1','2','1','2','1'],\n",
    "        'mensaje': [\"I'm the great mad scientist, Hououin Kyoma\", \"I am a scientist, I have to act on my own theory.\", \n",
    "                    \"It's an intellectual drink for the chosen ones\", \"People's feelings are memories that transcend time.\",\n",
    "                    \"El Psy Kongroo\", \"Something must be wrong for you to use my actual name.\",\n",
    "                    \"It's the choice of Steins Gate.\", \"You've pretty much figured it all out by now, right?\",\n",
    "                    \"Sorry, The Zombie~~\", \"There was a scientific rationale for that!\"],\n",
    "        'numero_origen': ['1','2','1','2','1','1','2','1','2','1']\n",
    "}\n",
    "\n",
    "tt_msgs = pd.DataFrame(tt_msgs_data, columns = tt_msgs_data.keys())"
   ]
  }
 ],
 "metadata": {
  "kernelspec": {
   "display_name": "Python 3",
   "language": "python",
   "name": "python3"
  },
  "language_info": {
   "codemirror_mode": {
    "name": "ipython",
    "version": 3
   },
   "file_extension": ".py",
   "mimetype": "text/x-python",
   "name": "python",
   "nbconvert_exporter": "python",
   "pygments_lexer": "ipython3",
   "version": "3.6.9"
  }
 },
 "nbformat": 4,
 "nbformat_minor": 2
}
